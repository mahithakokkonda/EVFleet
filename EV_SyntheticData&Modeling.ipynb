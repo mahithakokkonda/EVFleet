{
  "nbformat": 4,
  "nbformat_minor": 0,
  "metadata": {
    "colab": {
      "provenance": [],
      "include_colab_link": true
    },
    "kernelspec": {
      "name": "python3",
      "display_name": "Python 3"
    },
    "language_info": {
      "name": "python"
    }
  },
  "cells": [
    {
      "cell_type": "markdown",
      "metadata": {
        "id": "view-in-github",
        "colab_type": "text"
      },
      "source": [
        "<a href=\"https://colab.research.google.com/github/mahithakokkonda/EVFleet/blob/main/EV_SyntheticData%26Modeling.ipynb\" target=\"_parent\"><img src=\"https://colab.research.google.com/assets/colab-badge.svg\" alt=\"Open In Colab\"/></a>"
      ]
    },
    {
      "cell_type": "markdown",
      "source": [
        "# **#SYNTHETIC DATA GENERATION**"
      ],
      "metadata": {
        "id": "of69lb0dqdwJ"
      }
    },
    {
      "cell_type": "code",
      "source": [
        "pip install faker"
      ],
      "metadata": {
        "colab": {
          "base_uri": "https://localhost:8080/"
        },
        "id": "Qtp90gNKoKCN",
        "outputId": "b9a0d9a1-80ab-49d2-ea38-ee7ca45af495"
      },
      "execution_count": null,
      "outputs": [
        {
          "output_type": "stream",
          "name": "stdout",
          "text": [
            "Collecting faker\n",
            "  Downloading Faker-33.1.0-py3-none-any.whl.metadata (15 kB)\n",
            "Requirement already satisfied: python-dateutil>=2.4 in /usr/local/lib/python3.10/dist-packages (from faker) (2.8.2)\n",
            "Requirement already satisfied: typing-extensions in /usr/local/lib/python3.10/dist-packages (from faker) (4.12.2)\n",
            "Requirement already satisfied: six>=1.5 in /usr/local/lib/python3.10/dist-packages (from python-dateutil>=2.4->faker) (1.16.0)\n",
            "Downloading Faker-33.1.0-py3-none-any.whl (1.9 MB)\n",
            "\u001b[2K   \u001b[90m━━━━━━━━━━━━━━━━━━━━━━━━━━━━━━━━━━━━━━━━\u001b[0m \u001b[32m1.9/1.9 MB\u001b[0m \u001b[31m19.0 MB/s\u001b[0m eta \u001b[36m0:00:00\u001b[0m\n",
            "\u001b[?25hInstalling collected packages: faker\n",
            "Successfully installed faker-33.1.0\n"
          ]
        }
      ]
    },
    {
      "cell_type": "code",
      "execution_count": null,
      "metadata": {
        "colab": {
          "base_uri": "https://localhost:8080/"
        },
        "id": "auzWz6_loCUW",
        "outputId": "beccdf99-a9ea-414e-9850-3f700b215de5"
      },
      "outputs": [
        {
          "output_type": "stream",
          "name": "stdout",
          "text": [
            "Synthetic dataset created and saved as 'EV_Synthetic_Data_New.csv'.\n"
          ]
        }
      ],
      "source": [
        "import pandas as pd\n",
        "import random\n",
        "from faker import Faker\n",
        "\n",
        "# Initialize Faker\n",
        "fake = Faker()\n",
        "\n",
        "# Vehicle specs from the image\n",
        "vehicle_specs = {\n",
        "    \"Tesla1\": {\"Acceleration\": 4.4, \"Top Speed\": 233, \"Electric Range\": 485, \"Total Power\": 366, \"Total Torque\": 493, \"Drive\": \"AWD\", \"Battery Capacity\": 82, \"Length\": 4694, \"Width\": 1849, \"Height\": 1443, \"Wheelbase\": 2875, \"Gross Vehicle Weight\": 2232, \"Max Payload\": 388, \"Cargo Volume\": 561, \"Seats\": 5},\n",
        "    \"Tesla2\": {\"Acceleration\": 3.3, \"Top Speed\": 261, \"Electric Range\": 460, \"Total Power\": 377, \"Total Torque\": 660, \"Drive\": \"AWD\", \"Battery Capacity\": 82, \"Length\": 4694, \"Width\": 1849, \"Height\": 1443, \"Wheelbase\": 2875, \"Gross Vehicle Weight\": 2232, \"Max Payload\": 388, \"Cargo Volume\": 561, \"Seats\": 5},\n",
        "    \"BMW\": {\"Acceleration\": 5.7, \"Top Speed\": 190, \"Electric Range\": 470, \"Total Power\": 250, \"Total Torque\": 430, \"Drive\": \"Rear\", \"Battery Capacity\": 83.9, \"Length\": 4783, \"Width\": 1852, \"Height\": 1448, \"Wheelbase\": 2856, \"Gross Vehicle Weight\": 2605, \"Max Payload\": 555, \"Cargo Volume\": 470, \"Seats\": 5},\n",
        "    \"Volkswagen\": {\"Acceleration\": 7.9, \"Top Speed\": 160, \"Electric Range\": 450, \"Total Power\": 150, \"Total Torque\": 310, \"Drive\": \"Rear\", \"Battery Capacity\": 82, \"Length\": 4261, \"Width\": 1809, \"Height\": 1568, \"Wheelbase\": 2771, \"Gross Vehicle Weight\": 2300, \"Max Payload\": 447, \"Cargo Volume\": 385, \"Seats\": 5},\n",
        "    \"Polestar\": {\"Acceleration\": 7.4, \"Top Speed\": 160, \"Electric Range\": 425, \"Total Power\": 170, \"Total Torque\": 330, \"Drive\": \"Front\", \"Battery Capacity\": 78, \"Length\": 4607, \"Width\": 1800, \"Height\": 1479, \"Wheelbase\": 2735, \"Gross Vehicle Weight\": 2490, \"Max Payload\": 496, \"Cargo Volume\": 405, \"Seats\": 5},\n",
        "}\n",
        "\n",
        "# Initialize data lists\n",
        "data = []\n",
        "roles = [\"Driver\"] * 1600 + [\"Fleet Manager\"] * 400  # 1600 drivers, 400 fleet managers\n",
        "random.shuffle(roles)  # Shuffle roles to randomize\n",
        "\n",
        "# Generate 2000 records\n",
        "for i in range(1, 2001):\n",
        "    # Synthetic username and email\n",
        "    username = fake.user_name()\n",
        "    email = f\"{username}@gmail.com\"\n",
        "\n",
        "    # Role (Driver or Fleet Manager)\n",
        "    role = roles[i - 1]\n",
        "\n",
        "    # Random vehicle make\n",
        "    make = random.choice(list(vehicle_specs.keys()))\n",
        "    specs = vehicle_specs[make]\n",
        "\n",
        "    # Maintenance cost and pincode\n",
        "    maintenance_cost = round(random.uniform(1000, 5000), 2)  # Random maintenance cost\n",
        "    pincode = fake.postcode()\n",
        "\n",
        "    # Date, time, location\n",
        "    date = fake.date_this_year()\n",
        "    time = fake.time()\n",
        "    latitude = round(random.uniform(-90.0, 90.0), 6)\n",
        "    longitude = round(random.uniform(-180.0, 180.0), 6)\n",
        "\n",
        "    # Vehicle status\n",
        "    vehicle_status = random.choice([0, 1])\n",
        "\n",
        "    # Battery level and range\n",
        "    battery_level = random.randint(1, 100)\n",
        "    range_per_percent = specs[\"Electric Range\"] / 100\n",
        "    range_km = round(battery_level * range_per_percent, 2)\n",
        "\n",
        "    # Append record\n",
        "    data.append({\n",
        "        \"id\": i,\n",
        "        \"username\": username,\n",
        "        \"email\": email,\n",
        "        \"role\": role,\n",
        "        \"make\": make,\n",
        "        \"acceleration\": specs[\"Acceleration\"],\n",
        "        \"top_speed\": specs[\"Top Speed\"],\n",
        "        \"electric_range\": specs[\"Electric Range\"],\n",
        "        \"total_power\": specs[\"Total Power\"],\n",
        "        \"total_torque\": specs[\"Total Torque\"],\n",
        "        \"drive\": specs[\"Drive\"],\n",
        "        \"battery_capacity\": specs[\"Battery Capacity\"],\n",
        "        \"length\": specs[\"Length\"],\n",
        "        \"width\": specs[\"Width\"],\n",
        "        \"height\": specs[\"Height\"],\n",
        "        \"wheelbase\": specs[\"Wheelbase\"],\n",
        "        \"gross_vehicle_weight\": specs[\"Gross Vehicle Weight\"],\n",
        "        \"max_payload\": specs[\"Max Payload\"],\n",
        "        \"cargo_volume\": specs[\"Cargo Volume\"],\n",
        "        \"seats\": specs[\"Seats\"],\n",
        "        \"maintenance_cost\": maintenance_cost,\n",
        "        \"pincode\": pincode,\n",
        "        \"date\": date,\n",
        "        \"time\": time,\n",
        "        \"latitude\": latitude,\n",
        "        \"longitude\": longitude,\n",
        "        \"vehicle_status\": vehicle_status,\n",
        "        \"battery_level\": battery_level,\n",
        "        \"range\": range_km\n",
        "    })\n",
        "\n",
        "# Convert to DataFrame\n",
        "df = pd.DataFrame(data)\n",
        "\n",
        "# Save to CSV\n",
        "df.to_csv('EV_Synthetic_Data_New.csv', index=False)\n",
        "\n",
        "print(\"Synthetic dataset created and saved as 'EV_Synthetic_Data_New.csv'.\")\n"
      ]
    },
    {
      "cell_type": "code",
      "source": [
        "import pandas as pd\n",
        "\n",
        "# Load the dataset\n",
        "df = pd.read_csv(\"/content/EV_Synthetic_Data_New.csv\")\n",
        "\n",
        "# Count the occurrences of each role\n",
        "role_counts = df['role'].value_counts()\n",
        "\n",
        "# Display the counts\n",
        "print(\"Role Counts:\")\n",
        "print(role_counts)\n",
        "\n",
        "# For specific counts\n",
        "drivers_count = role_counts.get('Driver', 0)\n",
        "fleet_managers_count = role_counts.get('Fleet Manager', 0)\n",
        "\n",
        "print(f\"\\nDrivers: {drivers_count}\")\n",
        "print(f\"Fleet Managers: {fleet_managers_count}\")\n"
      ],
      "metadata": {
        "colab": {
          "base_uri": "https://localhost:8080/"
        },
        "id": "dLcg7Xcsoszv",
        "outputId": "d1b9f833-c2e9-4275-c685-8f7f9f3743fc"
      },
      "execution_count": null,
      "outputs": [
        {
          "output_type": "stream",
          "name": "stdout",
          "text": [
            "Role Counts:\n",
            "role\n",
            "Driver           1600\n",
            "Fleet Manager     400\n",
            "Name: count, dtype: int64\n",
            "\n",
            "Drivers: 1600\n",
            "Fleet Managers: 400\n"
          ]
        }
      ]
    },
    {
      "cell_type": "code",
      "source": [
        "# Count the occurrences of each make\n",
        "make_counts = df['make'].value_counts()\n",
        "\n",
        "# Display the counts\n",
        "print(\"Vehicle Counts by Make:\")\n",
        "print(make_counts)\n",
        "\n",
        "# For specific counts (if needed)\n",
        "tesla1_count = make_counts.get('Tesla1', 0)\n",
        "tesla2_count = make_counts.get('Tesla2', 0)\n",
        "bmw_count = make_counts.get('BMW', 0)\n",
        "volkswagen_count = make_counts.get('Volkswagen', 0)\n",
        "polestar_count = make_counts.get('Polestar', 0)\n",
        "\n",
        "print(f\"\\nTesla1: {tesla1_count}\")\n",
        "print(f\"Tesla2: {tesla2_count}\")\n",
        "print(f\"BMW: {bmw_count}\")\n",
        "print(f\"Volkswagen: {volkswagen_count}\")\n",
        "print(f\"Polestar: {polestar_count}\")"
      ],
      "metadata": {
        "colab": {
          "base_uri": "https://localhost:8080/"
        },
        "id": "N41G4TvJpb0R",
        "outputId": "4f9a35ba-ef5a-4569-ab53-6204ad39d9c8"
      },
      "execution_count": null,
      "outputs": [
        {
          "output_type": "stream",
          "name": "stdout",
          "text": [
            "Vehicle Counts by Make:\n",
            "make\n",
            "Volkswagen    426\n",
            "Polestar      414\n",
            "BMW           397\n",
            "Tesla2        395\n",
            "Tesla1        368\n",
            "Name: count, dtype: int64\n",
            "\n",
            "Tesla1: 368\n",
            "Tesla2: 395\n",
            "BMW: 397\n",
            "Volkswagen: 426\n",
            "Polestar: 414\n"
          ]
        }
      ]
    },
    {
      "cell_type": "markdown",
      "source": [
        "# **#MODELING PART-LINEAR REGRESSION MODEL**"
      ],
      "metadata": {
        "id": "8XiCFmsBqlVq"
      }
    },
    {
      "cell_type": "code",
      "source": [
        "import pandas as pd\n",
        "import numpy as np\n",
        "from sklearn.model_selection import train_test_split\n",
        "from sklearn.linear_model import LinearRegression\n",
        "from sklearn.metrics import mean_squared_error, r2_score\n",
        "from sklearn.preprocessing import OneHotEncoder\n",
        "\n",
        "# Load dataset\n",
        "df = pd.read_csv(\"/content/EV_Synthetic_Data_New.csv\")\n",
        "\n",
        "# Introduce noise to the target variable (range)\n",
        "np.random.seed(42)\n",
        "noise = np.random.normal(loc=0, scale=42, size=df.shape[0])  # Adjust scale for desired R²\n",
        "df['range_noisy'] = df['range'] + noise\n",
        "\n",
        "# Extract features and target\n",
        "X = df[['make', 'battery_level']]  # Features: make and battery_level\n",
        "y = df['range_noisy']  # Target: range with noise\n",
        "\n",
        "# One-Hot Encoding for 'make'\n",
        "encoder = OneHotEncoder(sparse_output=False,drop=\"first\")  # Use sparse_output=False\n",
        "make_encoded = encoder.fit_transform(X[['make']])\n",
        "\n",
        "# Combine the encoded 'make' with 'battery_level'\n",
        "X_preprocessed = np.hstack([make_encoded, X[['battery_level']].values])\n",
        "\n",
        "# Split data into train and test sets\n",
        "X_train, X_test, y_train, y_test = train_test_split(X_preprocessed, y, test_size=0.2, random_state=42)\n",
        "\n",
        "# Initialize the Linear Regression model\n",
        "model = LinearRegression()\n",
        "\n",
        "# Train the model\n",
        "model.fit(X_train, y_train)\n",
        "\n",
        "# Predict on test data\n",
        "y_pred = model.predict(X_test)\n",
        "\n",
        "# Calculate MSE and R² score\n",
        "mse = mean_squared_error(y_test, y_pred)\n",
        "r2 = r2_score(y_test, y_pred)\n",
        "\n",
        "print(f\"Mean Squared Error (MSE): {mse}\")\n",
        "print(f\"R² Score: {r2}\")\n",
        "\n",
        "# Example: User inputs\n",
        "user_make = \"Tesla2\"  # Example make\n",
        "user_battery_level = 74  # Example battery level\n",
        "\n",
        "# Encode the 'make' input\n",
        "user_make_encoded = encoder.transform([[user_make]])\n",
        "\n",
        "# Combine encoded 'make' with battery level\n",
        "user_input = np.hstack([user_make_encoded, [[user_battery_level]]])\n",
        "\n",
        "# Predict the range\n",
        "predicted_range = model.predict(user_input)[0]\n",
        "print(f\"Predicted Range for {user_make} at {user_battery_level}% battery level: {predicted_range} km\")\n"
      ],
      "metadata": {
        "colab": {
          "base_uri": "https://localhost:8080/"
        },
        "id": "UyLJP8V0t4XS",
        "outputId": "0be9e72f-8464-4dfe-aa50-a2cbfdc7cf50"
      },
      "execution_count": null,
      "outputs": [
        {
          "output_type": "stream",
          "name": "stdout",
          "text": [
            "Mean Squared Error (MSE): 1803.2693887692647\n",
            "R² Score: 0.9030831747145969\n",
            "Predicted Range for Tesla2 at 74% battery level: 341.4262513140677 km\n"
          ]
        },
        {
          "output_type": "stream",
          "name": "stderr",
          "text": [
            "/usr/local/lib/python3.10/dist-packages/sklearn/base.py:493: UserWarning: X does not have valid feature names, but OneHotEncoder was fitted with feature names\n",
            "  warnings.warn(\n"
          ]
        }
      ]
    },
    {
      "cell_type": "code",
      "source": [
        "df.columns"
      ],
      "metadata": {
        "colab": {
          "base_uri": "https://localhost:8080/"
        },
        "id": "iSkU3_ELV1tP",
        "outputId": "a2862f8d-86c0-4626-b88f-175e24b30a5d"
      },
      "execution_count": null,
      "outputs": [
        {
          "output_type": "execute_result",
          "data": {
            "text/plain": [
              "Index(['id', 'username', 'email', 'role', 'make', 'acceleration', 'top_speed',\n",
              "       'electric_range', 'total_power', 'total_torque', 'drive',\n",
              "       'battery_capacity', 'length', 'width', 'height', 'wheelbase',\n",
              "       'gross_vehicle_weight', 'max_payload', 'cargo_volume', 'seats',\n",
              "       'maintenance_cost', 'pincode', 'date', 'time', 'latitude', 'longitude',\n",
              "       'vehicle_status', 'battery_level', 'range', 'range_noisy'],\n",
              "      dtype='object')"
            ]
          },
          "metadata": {},
          "execution_count": 6
        }
      ]
    },
    {
      "cell_type": "markdown",
      "source": [
        "# **#ENCODER PICKLE FILE CREATION**"
      ],
      "metadata": {
        "id": "VcPerDIV_QIn"
      }
    },
    {
      "cell_type": "code",
      "source": [
        "import pickle\n",
        "from sklearn.preprocessing import OneHotEncoder\n",
        "\n",
        "# Assuming 'encoder' is your fitted OneHotEncoder\n",
        "encoder = OneHotEncoder(sparse_output=False)  # Example encoder\n",
        "\n",
        "# After fitting the encoder with your training data\n",
        "encoder.fit(X[['make']])  # X is your input dataframe with 'make' column\n",
        "\n",
        "# Save the encoder to a file\n",
        "with open('encoder.pkl', 'wb') as file:\n",
        "    pickle.dump(encoder, file)\n",
        "\n",
        "print(\"Encoder saved!\")\n"
      ],
      "metadata": {
        "colab": {
          "base_uri": "https://localhost:8080/"
        },
        "id": "EVFTXuFy5eMx",
        "outputId": "0bed0c22-20e6-41c2-afde-09d6ff791f15"
      },
      "execution_count": null,
      "outputs": [
        {
          "output_type": "stream",
          "name": "stdout",
          "text": [
            "Encoder saved!\n"
          ]
        }
      ]
    },
    {
      "cell_type": "markdown",
      "source": [
        "# **#TESTING**"
      ],
      "metadata": {
        "id": "SzxQRVKx_Vjk"
      }
    },
    {
      "cell_type": "code",
      "source": [
        "import numpy as np\n",
        "\n",
        "# Define the input values\n",
        "make_input = 'BMW'          # Make of the vehicle\n",
        "battery_level_input = 83   # Battery level\n",
        "\n",
        "# One-hot encode the 'make' input\n",
        "# Ensure the order of categories matches the encoder's fit during training\n",
        "make_categories = encoder.categories_[0]  # Retrieve categories learned by the encoder\n",
        "make_one_hot = [1 if category == make_input else 0 for category in make_categories[1:]]  # Skip the first category (dropped)\n",
        "\n",
        "# Combine the encoded 'make' and 'battery_level' into the input array\n",
        "input_data = np.array(make_one_hot + [battery_level_input]).reshape(1, -1)\n",
        "\n",
        "# Predict the range\n",
        "predicted_range = model.predict(input_data)\n",
        "\n",
        "# Output the prediction\n",
        "print(f\"Predicted range for make '{make_input}' with battery level {battery_level_input}%: {predicted_range[0]:.2f} km\")\n"
      ],
      "metadata": {
        "colab": {
          "base_uri": "https://localhost:8080/"
        },
        "id": "M0jZQumMuvj6",
        "outputId": "d799f76a-ddec-48bd-bc56-1e1a16ba182d"
      },
      "execution_count": null,
      "outputs": [
        {
          "output_type": "stream",
          "name": "stdout",
          "text": [
            "Predicted range for make 'BMW' with battery level 83%: 386.52 km\n"
          ]
        }
      ]
    },
    {
      "cell_type": "code",
      "source": [
        "import numpy as np\n",
        "\n",
        "# Define the input values\n",
        "make_input = 'BMW'          # Make of the vehicle\n",
        "battery_level_input = 72    # Battery level\n",
        "\n",
        "# One-hot encode the 'make' input\n",
        "# Ensure the order of categories matches the encoder's fit during training\n",
        "make_categories = encoder.categories_[0]  # Retrieve categories learned by the encoder\n",
        "make_one_hot = [1 if category == make_input else 0 for category in make_categories[1:]]  # Skip the first category (dropped)\n",
        "\n",
        "# Combine the encoded 'make' and 'battery_level' into the input array\n",
        "input_data = np.array(make_one_hot + [battery_level_input]).reshape(1, -1)\n",
        "\n",
        "# Predict the range\n",
        "predicted_range = model.predict(input_data)\n",
        "\n",
        "# Output the prediction\n",
        "print(f\"Predicted range for make '{make_input}' with battery level {battery_level_input}%: {predicted_range[0]:.2f} km\")\n"
      ],
      "metadata": {
        "colab": {
          "base_uri": "https://localhost:8080/"
        },
        "id": "eI6Z-JFhubGB",
        "outputId": "e396d2e3-6c90-459b-f929-a7e483448025"
      },
      "execution_count": null,
      "outputs": [
        {
          "output_type": "stream",
          "name": "stdout",
          "text": [
            "Predicted range for make 'BMW' with battery level 72%: 336.64 km\n"
          ]
        }
      ]
    },
    {
      "cell_type": "markdown",
      "source": [
        "# **#ELASTIC NET REGRESSION**"
      ],
      "metadata": {
        "id": "Qw1UTwcBvFYL"
      }
    },
    {
      "cell_type": "code",
      "source": [
        "from sklearn.linear_model import ElasticNet\n",
        "from sklearn.metrics import mean_squared_error, r2_score\n",
        "\n",
        "# Train Elastic Net Regression model\n",
        "elastic_net_model = ElasticNet(alpha=1.0, l1_ratio=0.5, random_state=42)\n",
        "elastic_net_model.fit(X_train, y_train)  # Train using preprocessed data\n",
        "\n",
        "# Predict on the test data\n",
        "y_pred_elastic_net = elastic_net_model.predict(X_test)\n",
        "\n",
        "# Calculate R² score and MSE\n",
        "r2_elastic_net = r2_score(y_test, y_pred_elastic_net)\n",
        "mse_elastic_net = mean_squared_error(y_test, y_pred_elastic_net)\n",
        "\n",
        "# Print the metrics\n",
        "print(f\"Elastic Net Regression:\")\n",
        "print(f\"R² Score: {r2_elastic_net:.2f}\")\n",
        "print(f\"Mean Squared Error (MSE): {mse_elastic_net:.2f}\")\n",
        "\n",
        "# Predict the range for a specific input\n",
        "make_one_hot = [1 if category == make_input else 0 for category in make_categories[1:]]  # Skip the first category\n",
        "input_data = np.array(make_one_hot + [battery_level_input]).reshape(1, -1)\n",
        "predicted_range_elastic_net = elastic_net_model.predict(input_data)\n",
        "\n",
        "print(f\"Predicted range using Elastic Net for make '{make_input}' with battery level {battery_level_input}%: {predicted_range_elastic_net[0]:.2f} km\")\n"
      ],
      "metadata": {
        "colab": {
          "base_uri": "https://localhost:8080/"
        },
        "id": "Zbu1-QvEvNg-",
        "outputId": "3f6b817e-c366-4163-94cb-9ddec73e9dc3"
      },
      "execution_count": null,
      "outputs": [
        {
          "output_type": "stream",
          "name": "stdout",
          "text": [
            "Elastic Net Regression:\n",
            "R² Score: 0.90\n",
            "Mean Squared Error (MSE): 1814.54\n",
            "Predicted range using Elastic Net for make 'BMW' with battery level 72%: 329.75 km\n"
          ]
        }
      ]
    },
    {
      "cell_type": "markdown",
      "source": [
        "# **#RIDGE REGRESSION**"
      ],
      "metadata": {
        "id": "8c36qqbIvJls"
      }
    },
    {
      "cell_type": "code",
      "source": [
        "from sklearn.linear_model import Ridge\n",
        "\n",
        "# Train Ridge Regression model\n",
        "ridge_model = Ridge(alpha=1.0, random_state=42)\n",
        "ridge_model.fit(X_train, y_train)  # Train using preprocessed data\n",
        "\n",
        "# Predict on the test data\n",
        "y_pred_ridge = ridge_model.predict(X_test)\n",
        "\n",
        "# Calculate R² score and MSE\n",
        "r2_ridge = r2_score(y_test, y_pred_ridge)\n",
        "mse_ridge = mean_squared_error(y_test, y_pred_ridge)\n",
        "\n",
        "# Print the metrics\n",
        "print(f\"\\nRidge Regression:\")\n",
        "print(f\"R² Score: {r2_ridge:.2f}\")\n",
        "print(f\"Mean Squared Error (MSE): {mse_ridge:.2f}\")\n",
        "\n",
        "# Predict the range for a specific input\n",
        "predicted_range_ridge = ridge_model.predict(input_data)\n",
        "\n",
        "print(f\"Predicted range using Ridge Regression for make '{make_input}' with battery level {battery_level_input}%: {predicted_range_ridge[0]:.2f} km\")\n"
      ],
      "metadata": {
        "colab": {
          "base_uri": "https://localhost:8080/"
        },
        "id": "qhIh7YFWvgio",
        "outputId": "09b87da5-5ed4-4d53-e3aa-7fa25c9a8c16"
      },
      "execution_count": null,
      "outputs": [
        {
          "output_type": "stream",
          "name": "stdout",
          "text": [
            "\n",
            "Ridge Regression:\n",
            "R² Score: 0.90\n",
            "Mean Squared Error (MSE): 1803.02\n",
            "Predicted range using Ridge Regression for make 'BMW' with battery level 72%: 336.54 km\n"
          ]
        }
      ]
    },
    {
      "cell_type": "markdown",
      "source": [
        "# **#CONVERTING TO PICKLE**"
      ],
      "metadata": {
        "id": "Y-ZmQlRUwfBw"
      }
    },
    {
      "cell_type": "markdown",
      "source": [],
      "metadata": {
        "id": "AbzxP4Y8pQo2"
      }
    },
    {
      "cell_type": "code",
      "source": [
        "import pickle\n",
        "from sklearn.linear_model import LinearRegression\n",
        "\n",
        "# Assuming you have already trained your model (linear_model) as shown in the previous steps\n",
        "linear_model = LinearRegression()\n",
        "linear_model.fit(X_train, y_train)\n",
        "\n",
        "# Save the model to a pickle file\n",
        "with open('linear_model1.pkl', 'wb') as file:\n",
        "    pickle.dump(linear_model, file)\n",
        "\n",
        "print(\"Linear Regression model saved as pickle file.\")\n"
      ],
      "metadata": {
        "colab": {
          "base_uri": "https://localhost:8080/"
        },
        "id": "rv8_g3qPwiq9",
        "outputId": "d7850240-ddab-4585-e11c-5ea004e18841"
      },
      "execution_count": null,
      "outputs": [
        {
          "output_type": "stream",
          "name": "stdout",
          "text": [
            "Linear Regression model saved as pickle file.\n"
          ]
        }
      ]
    },
    {
      "cell_type": "markdown",
      "source": [
        "# **#NEW CODE**"
      ],
      "metadata": {
        "id": "xyaWHWhCxq-B"
      }
    },
    {
      "cell_type": "code",
      "source": [
        "import pandas as pd\n",
        "import random\n",
        "from faker import Faker\n",
        "\n",
        "# Initialize Faker\n",
        "fake = Faker()\n",
        "\n",
        "# Predefined usernames and managers\n",
        "usernames = [\"sanasya\", \"akshaya\", \"mahitha\", \"kruthika\", \"abhishek\", \"shree\", \"divya\", \"manisha\", \"teja\", \"ram\"]\n",
        "managers = [\"santhosh\", \"jerlin\", \"harshithah\", \"sobika\", \"sriram\"]\n",
        "\n",
        "# Vehicle specs from the image\n",
        "vehicle_specs = {\n",
        "    \"Tesla1\": {\"Acceleration\": 4.4, \"Top Speed\": 233, \"Electric Range\": 485, \"Total Power\": 366, \"Total Torque\": 493, \"Drive\": \"AWD\", \"Battery Capacity\": 82, \"Length\": 4694, \"Width\": 1849, \"Height\": 1443, \"Wheelbase\": 2875, \"Gross Vehicle Weight\": 2232, \"Max Payload\": 388, \"Cargo Volume\": 561, \"Seats\": 5},\n",
        "    \"Tesla2\": {\"Acceleration\": 3.3, \"Top Speed\": 261, \"Electric Range\": 460, \"Total Power\": 377, \"Total Torque\": 660, \"Drive\": \"AWD\", \"Battery Capacity\": 82, \"Length\": 4694, \"Width\": 1849, \"Height\": 1443, \"Wheelbase\": 2875, \"Gross Vehicle Weight\": 2232, \"Max Payload\": 388, \"Cargo Volume\": 561, \"Seats\": 5},\n",
        "    \"BMW\": {\"Acceleration\": 5.7, \"Top Speed\": 190, \"Electric Range\": 470, \"Total Power\": 250, \"Total Torque\": 430, \"Drive\": \"Rear\", \"Battery Capacity\": 83.9, \"Length\": 4783, \"Width\": 1852, \"Height\": 1448, \"Wheelbase\": 2856, \"Gross Vehicle Weight\": 2605, \"Max Payload\": 555, \"Cargo Volume\": 470, \"Seats\": 5},\n",
        "    \"Volkswagen\": {\"Acceleration\": 7.9, \"Top Speed\": 160, \"Electric Range\": 450, \"Total Power\": 150, \"Total Torque\": 310, \"Drive\": \"Rear\", \"Battery Capacity\": 82, \"Length\": 4261, \"Width\": 1809, \"Height\": 1568, \"Wheelbase\": 2771, \"Gross Vehicle Weight\": 2300, \"Max Payload\": 447, \"Cargo Volume\": 385, \"Seats\": 5},\n",
        "    \"Polestar\": {\"Acceleration\": 7.4, \"Top Speed\": 160, \"Electric Range\": 425, \"Total Power\": 170, \"Total Torque\": 330, \"Drive\": \"Front\", \"Battery Capacity\": 78, \"Length\": 4607, \"Width\": 1800, \"Height\": 1479, \"Wheelbase\": 2735, \"Gross Vehicle Weight\": 2490, \"Max Payload\": 496, \"Cargo Volume\": 405, \"Seats\": 5},\n",
        "}\n",
        "\n",
        "# Initialize data lists\n",
        "data = []\n",
        "roles = [\"Driver\"] * 1600 + [\"Fleet Manager\"] * 400  # 1600 drivers, 400 fleet managers\n",
        "random.shuffle(roles)  # Shuffle roles to randomize\n",
        "\n",
        "# Generate 2000 records\n",
        "for i in range(1, 2001):\n",
        "    # Cycle through the predefined usernames\n",
        "    username = usernames[(i - 1) % len(usernames)]\n",
        "    email = f\"{username}@gmail.com\"\n",
        "\n",
        "    # Role (Driver or Fleet Manager)\n",
        "    role = roles[i % len(roles)]\n",
        "\n",
        "    # Random vehicle make\n",
        "    make = random.choice(list(vehicle_specs.keys()))\n",
        "    specs = vehicle_specs[make]\n",
        "\n",
        "    # Maintenance cost and pincode\n",
        "    maintenance_cost = round(random.uniform(1000, 5000), 2)  # Random maintenance cost\n",
        "    pincode = fake.postcode()\n",
        "\n",
        "    # Date, time, location\n",
        "    date = fake.date_this_year()\n",
        "    time = fake.time()\n",
        "    latitude = round(random.uniform(-90.0, 90.0), 6)\n",
        "    longitude = round(random.uniform(-180.0, 180.0), 6)\n",
        "\n",
        "    # Vehicle status\n",
        "    vehicle_status = random.choice([0, 1])\n",
        "\n",
        "    # Battery level and range\n",
        "    battery_level = random.randint(1, 100)\n",
        "    range_per_percent = specs[\"Electric Range\"] / 100\n",
        "    range_km = round(battery_level * range_per_percent, 2)\n",
        "\n",
        "    # Assign manager randomly\n",
        "    manager = random.choice(managers)\n",
        "\n",
        "    # Append record\n",
        "    data.append({\n",
        "        \"id\": i,\n",
        "        \"username\": username,\n",
        "        \"email\": email,\n",
        "        \"role\": role,\n",
        "        \"manager\": manager,\n",
        "        \"make\": make,\n",
        "        \"acceleration\": specs[\"Acceleration\"],\n",
        "        \"top_speed\": specs[\"Top Speed\"],\n",
        "        \"electric_range\": specs[\"Electric Range\"],\n",
        "        \"total_power\": specs[\"Total Power\"],\n",
        "        \"total_torque\": specs[\"Total Torque\"],\n",
        "        \"drive\": specs[\"Drive\"],\n",
        "        \"battery_capacity\": specs[\"Battery Capacity\"],\n",
        "        \"length\": specs[\"Length\"],\n",
        "        \"width\": specs[\"Width\"],\n",
        "        \"height\": specs[\"Height\"],\n",
        "        \"wheelbase\": specs[\"Wheelbase\"],\n",
        "        \"gross_vehicle_weight\": specs[\"Gross Vehicle Weight\"],\n",
        "        \"max_payload\": specs[\"Max Payload\"],\n",
        "        \"cargo_volume\": specs[\"Cargo Volume\"],\n",
        "        \"seats\": specs[\"Seats\"],\n",
        "        \"maintenance_cost\": maintenance_cost,\n",
        "        \"pincode\": pincode,\n",
        "        \"date\": date,\n",
        "        \"time\": time,\n",
        "        \"latitude\": latitude,\n",
        "        \"longitude\": longitude,\n",
        "        \"vehicle_status\": vehicle_status,\n",
        "        \"battery_level\": battery_level,\n",
        "        \"range\": range_km\n",
        "    })\n",
        "\n",
        "# Convert to DataFrame\n",
        "df = pd.DataFrame(data)\n",
        "\n",
        "# Save to CSV\n",
        "df.to_csv('EV_Synthetic_Data_New.csv', index=False)\n",
        "\n",
        "print(\"Synthetic dataset created and saved as 'EV_Synthetic_Data_New.csv'.\")\n"
      ],
      "metadata": {
        "colab": {
          "base_uri": "https://localhost:8080/"
        },
        "id": "DScWUYe9xuOF",
        "outputId": "18e4bbdd-c2f4-4b58-9db2-44883c5ea6d8"
      },
      "execution_count": null,
      "outputs": [
        {
          "output_type": "stream",
          "name": "stdout",
          "text": [
            "Synthetic dataset created and saved as 'EV_Synthetic_Data_New.csv'.\n"
          ]
        }
      ]
    },
    {
      "cell_type": "code",
      "source": [
        "import pandas as pd\n",
        "\n",
        "# Load the dataset\n",
        "df = pd.read_csv(\"/content/EV_Synthetic_Data_New.csv\")\n",
        "\n",
        "# Count the occurrences of each role\n",
        "role_counts = df['role'].value_counts()\n",
        "\n",
        "# Display the counts\n",
        "print(\"Role Counts:\")\n",
        "print(role_counts)\n",
        "\n",
        "# For specific counts\n",
        "drivers_count = role_counts.get('Driver', 0)\n",
        "fleet_managers_count = role_counts.get('Fleet Manager', 0)\n",
        "\n",
        "print(f\"\\nDrivers: {drivers_count}\")\n",
        "print(f\"Fleet Managers: {fleet_managers_count}\")\n"
      ],
      "metadata": {
        "colab": {
          "base_uri": "https://localhost:8080/"
        },
        "id": "MTaVP3Ssx223",
        "outputId": "cdfc62b9-50e5-498b-f0e2-84d7f54fb1d8"
      },
      "execution_count": null,
      "outputs": [
        {
          "output_type": "stream",
          "name": "stdout",
          "text": [
            "Role Counts:\n",
            "role\n",
            "Driver           1600\n",
            "Fleet Manager     400\n",
            "Name: count, dtype: int64\n",
            "\n",
            "Drivers: 1600\n",
            "Fleet Managers: 400\n"
          ]
        }
      ]
    },
    {
      "cell_type": "code",
      "source": [
        "import pandas as pd\n",
        "\n",
        "# Load the dataset\n",
        "df = pd.read_csv('EV_Synthetic_Data_New.csv')\n",
        "\n",
        "# Calculate unique counts for each role\n",
        "unique_counts_user = df.groupby('role')['username'].nunique()\n",
        "unique_counts_manager = df.groupby('role')['manager'].nunique()\n",
        "\n",
        "# Display the results\n",
        "print(\"Unique Driver Count:\", unique_counts_user.get(\"Driver\", 0))\n",
        "print(\"Unique Fleet Manager Count:\", unique_counts_manager.get(\"Fleet Manager\", 0))\n"
      ],
      "metadata": {
        "colab": {
          "base_uri": "https://localhost:8080/"
        },
        "id": "Py4jlRAQyXTP",
        "outputId": "097062a1-33bc-44ed-b8d9-a5b93cab2220"
      },
      "execution_count": null,
      "outputs": [
        {
          "output_type": "stream",
          "name": "stdout",
          "text": [
            "Unique Driver Count: 10\n",
            "Unique Fleet Manager Count: 5\n"
          ]
        }
      ]
    },
    {
      "cell_type": "code",
      "source": [
        "# Count the occurrences of each make\n",
        "make_counts = df['make'].value_counts()\n",
        "\n",
        "# Display the counts\n",
        "print(\"Vehicle Counts by Make:\")\n",
        "print(make_counts)\n",
        "\n",
        "# For specific counts (if needed)\n",
        "tesla1_count = make_counts.get('Tesla1', 0)\n",
        "tesla2_count = make_counts.get('Tesla2', 0)\n",
        "bmw_count = make_counts.get('BMW', 0)\n",
        "volkswagen_count = make_counts.get('Volkswagen', 0)\n",
        "polestar_count = make_counts.get('Polestar', 0)\n",
        "\n",
        "print(f\"\\nTesla1: {tesla1_count}\")\n",
        "print(f\"Tesla2: {tesla2_count}\")\n",
        "print(f\"BMW: {bmw_count}\")\n",
        "print(f\"Volkswagen: {volkswagen_count}\")\n",
        "print(f\"Polestar: {polestar_count}\")"
      ],
      "metadata": {
        "colab": {
          "base_uri": "https://localhost:8080/"
        },
        "id": "coh3--kN0Urw",
        "outputId": "465de091-8f9a-4743-e88e-2751ddcaa7e5"
      },
      "execution_count": null,
      "outputs": [
        {
          "output_type": "stream",
          "name": "stdout",
          "text": [
            "Vehicle Counts by Make:\n",
            "make\n",
            "BMW           426\n",
            "Tesla1        407\n",
            "Volkswagen    399\n",
            "Polestar      392\n",
            "Tesla2        376\n",
            "Name: count, dtype: int64\n",
            "\n",
            "Tesla1: 407\n",
            "Tesla2: 376\n",
            "BMW: 426\n",
            "Volkswagen: 399\n",
            "Polestar: 392\n"
          ]
        }
      ]
    },
    {
      "cell_type": "code",
      "source": [
        "import pandas as pd\n",
        "\n",
        "# Load the dataset\n",
        "df = pd.read_csv('EV_Synthetic_Data_New.csv')\n",
        "\n",
        "# Filter for drivers only\n",
        "drivers_df = df[df['role'] == 'Driver']\n",
        "\n",
        "# Count the number of observations for each driver\n",
        "driver_observations = drivers_df['username'].value_counts()\n",
        "\n",
        "# Display the results\n",
        "print(\"Number of observations for each driver:\")\n",
        "print(driver_observations)\n"
      ],
      "metadata": {
        "id": "rM5oZVa30uBC",
        "outputId": "e7da7895-8604-4ab3-b111-1aae4114aded",
        "colab": {
          "base_uri": "https://localhost:8080/"
        }
      },
      "execution_count": null,
      "outputs": [
        {
          "output_type": "stream",
          "name": "stdout",
          "text": [
            "Number of observations for each driver:\n",
            "username\n",
            "sanasya     165\n",
            "akshaya     165\n",
            "mahitha     165\n",
            "abhishek    161\n",
            "manisha     160\n",
            "ram         159\n",
            "shree       159\n",
            "teja        157\n",
            "kruthika    155\n",
            "divya       154\n",
            "Name: count, dtype: int64\n"
          ]
        }
      ]
    }
  ]
}